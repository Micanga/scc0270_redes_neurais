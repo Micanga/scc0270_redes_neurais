{
 "cells": [
  {
   "cell_type": "markdown",
   "metadata": {},
   "source": [
    "# Exercício 8 - SCC0270 Redes Neurais e Aprendizado Profundo \n",
    "**NOME:** Matheus Aparecido do Carmo Alves **- NºUSP:** 9791114"
   ]
  },
  {
   "cell_type": "markdown",
   "metadata": {},
   "source": [
    "## Exercício (parte 1)\n",
    "\n",
    "Com base no conjunto de dados MNIST:\n",
    "1. Junte TODAS as imagens em um único conjunto. O próximo item deste exercício deve ser executado para 10%, 20%, 30%, 40%, 50%, 60%, 70%, 80%, 90% e 100% da quantidade total de imagens. Em outras palavras, considerando todas as imagens, deve ser separado 10%para executar o método de validação escolhido. Os conjuntos de treino e de teste devem ser separados a partir dos 10% selecionados anteriormente. Esse mesmo procedimento (de separação dos dados) deve ser realizado para cada uma das proporções descritas anteriormente.\n",
    "2. Implemente uma Rede Neural Convolutiva para a classificação das imagens de cada uma das proporções citadas. Defina uma arquitetura de RNC que será usada em todas as proporções e utilize um método de validação que proporcione uma validação justa e coerente ao modelo. Plote em um mesmo gráfico a acurácia alcançada pelo modelo nas etapas de treino e de teste em cada proporção. O principal objetivo desta atividade é analisar a evolução do comportamento da RNC com diferentes quantidades de imagens."
   ]
  },
  {
   "cell_type": "markdown",
   "metadata": {},
   "source": [
    "**A. IMPLEMENTAÇÃO**\n",
    "\n",
    "Primeiramente, iremos carregar o dataset MNIST."
   ]
  },
  {
   "cell_type": "code",
   "execution_count": 1,
   "metadata": {},
   "outputs": [],
   "source": [
    "from mnist import MNIST\n",
    "def load_mnist():\n",
    "    mndata = MNIST('mnist_dataset')\n",
    "\n",
    "    X_train, y_train = mndata.load_training()\n",
    "    X_test, y_test = mndata.load_testing()\n",
    "\n",
    "    X, y = [], []\n",
    "    for i in range(len(X_train)):\n",
    "        X.append(X_train[i])\n",
    "        y.append(y_train[i])\n",
    "    for i in range(len(X_test)):\n",
    "        X.append(X_test[i])\n",
    "        y.append(y_test[i])\n",
    "\n",
    "    return X, y\n",
    "\n",
    "X,y = load_mnist()"
   ]
  },
  {
   "cell_type": "markdown",
   "metadata": {},
   "source": [
    "Com os dados carregados, partiremos para o pré-processamento.\n",
    "\n",
    "Nesta etapa, será aplicada a normalização via Média e Desvio padrão."
   ]
  },
  {
   "cell_type": "code",
   "execution_count": 2,
   "metadata": {},
   "outputs": [],
   "source": [
    "import numpy as np\n",
    "import os\n",
    "import pickle\n",
    "from sklearn.preprocessing import StandardScaler\n",
    "import tensorflow.keras as keras\n",
    "\n",
    "if os.path.exists(\"mnist_dataset/X.Pickle\"):\n",
    "    with open(\"mnist_dataset/X.Pickle\",\"rb\") as file:\n",
    "        X_cnn = pickle.load(file)\n",
    "        y_cnn = np.array(keras.utils.to_categorical(y))\n",
    "else:\n",
    "    # scaling the data via mean and std dev scaler\n",
    "    scaler = StandardScaler()\t\n",
    "    X_scaled = scaler.fit_transform(X,y)\n",
    "\n",
    "    # reshaping for cnn\n",
    "    X_cnn = X_scaled.reshape(-1, 28,28, 1)\n",
    "    y_cnn = np.array(keras.utils.to_categorical(y))\n",
    "\n",
    "    # saving the cnn processed dataset\n",
    "    with open(\"mnist_dataset/X.Pickle\",\"wb\") as file:\n",
    "        pickle.dump(X_cnn,file)"
   ]
  },
  {
   "cell_type": "markdown",
   "metadata": {},
   "source": [
    "De maneira direta, a arquitetura/modelo da RNC que será utilizada para este exercício segue:\n",
    "\n",
    "<img src=\"imgs/cnn_arch.png\" alt=\"cnn archtecture\" style=\"width: 500px;\"/>\n",
    "\n",
    "Para mais detalhes sobre a escolha dessa implementação, sugere-se a leitura do <a href=https://github.com/Micanga/scc0270_redes_neurais/blob/master/project_1/9791114_Projeto_1.pdf>Projeto 1</a> desenvolvido para esta mesma disciplina.\n",
    "\n",
    "Assim, iremos criar um inicializador para nossa rede neural."
   ]
  },
  {
   "cell_type": "code",
   "execution_count": 3,
   "metadata": {},
   "outputs": [],
   "source": [
    "def init_cnn(n_layers, num_classes, filter_sizes, alpha,\\\n",
    "input_shape=(28,28,1), kernel_size=(3,3), pool_size=(2,2), dropout=False, dropout_rate=0.3):\n",
    "    model = keras.Sequential()\n",
    "\n",
    "    # Input Layer\n",
    "    model.add(keras.layers.Conv2D(filters=filter_sizes[0], kernel_size=kernel_size,activation='linear',\\\n",
    "                                input_shape=input_shape,padding='same'))\n",
    "    model.add(keras.layers.LeakyReLU(alpha=alpha))\n",
    "    model.add(keras.layers.MaxPooling2D(pool_size,padding='same'))\n",
    "    if dropout:       \n",
    "        if isinstance(dropout_rate, list):\n",
    "            model.add(keras.layers.Dropout(dropout_rate[0]))\n",
    "        else:\n",
    "            model.add(keras.layers.Dropout(dropout_rate))\n",
    "\n",
    "    # Hidden Layers\n",
    "    for i in range(1,n_layers-1):\n",
    "        model.add(keras.layers.Conv2D(filter_sizes[i], kernel_size, activation='linear',padding='same'))\n",
    "        model.add(keras.layers.LeakyReLU(alpha=alpha))\n",
    "        model.add(keras.layers.MaxPooling2D(pool_size,padding='same'))\n",
    "        if dropout:           \n",
    "            if isinstance(dropout_rate, list):\n",
    "                model.add(keras.layers.Dropout(dropout_rate[i]))\n",
    "            else:\n",
    "                model.add(keras.layers.Dropout(dropout_rate))\n",
    "\n",
    "    # Output Layer\n",
    "    model.add(keras.layers.Flatten())\n",
    "    model.add(keras.layers.Dense(filter_sizes[-1], activation='linear'))\n",
    "    model.add(keras.layers.LeakyReLU(alpha=alpha))          \n",
    "    if dropout:           \n",
    "        if isinstance(dropout_rate, list):\n",
    "            model.add(keras.layers.Dropout(dropout_rate[-1]))\n",
    "        else:\n",
    "            model.add(keras.layers.Dropout(dropout_rate))\n",
    "    model.add(keras.layers.Dense(num_classes, activation='softmax'))\n",
    "\n",
    "    # Compiling\n",
    "    model.compile(loss=keras.losses.categorical_crossentropy,\\\n",
    "     optimizer=keras.optimizers.Adam(),metrics=['accuracy'])\n",
    "\n",
    "    # Returning\n",
    "    return model"
   ]
  },
  {
   "cell_type": "markdown",
   "metadata": {},
   "source": [
    "Com o iniciaizador criado, inicia-se o processo de coleta de dados.\n",
    "\n",
    "**B. COLETA DE DADOS**\n",
    "\n",
    "Para realização desta etapa, primeiro é necessário se definir o conjunto de teste e o conjunto de treino."
   ]
  },
  {
   "cell_type": "code",
   "execution_count": 4,
   "metadata": {},
   "outputs": [],
   "source": [
    "from sklearn.model_selection import train_test_split\n",
    "\n",
    "X_cnn_train, X_cnn_test, y_cnn_train, y_cnn_test =\\\n",
    "    train_test_split(X_cnn, y_cnn, test_size=0.15, random_state=1)"
   ]
  },
  {
   "cell_type": "markdown",
   "metadata": {},
   "source": [
    "Definidos estes dois conjuntos, serão executados o treinamento e o teste da nossa arquitetura de acordo com a metodologia definida para o exercício.\n",
    "\n",
    "O código abaixo implementa esta metodologia e coleta os resultados."
   ]
  },
  {
   "cell_type": "code",
   "execution_count": 5,
   "metadata": {},
   "outputs": [
    {
     "name": "stdout",
     "output_type": "stream",
     "text": [
      "=====\n",
      "Training with 10.0 % of the train set\n",
      "=====\n",
      "Train on 5950 samples, validate on 10500 samples\n",
      "5950/5950 [==============================] - 21s 4ms/sample - loss: 1.0819 - accuracy: 0.6612 - val_loss: 0.3870 - val_accuracy: 0.8893\n",
      "=====\n",
      "Training with 20.0 % of the train set\n",
      "=====\n",
      "Train on 11900 samples, validate on 10500 samples\n",
      "11900/11900 [==============================] - 31s 3ms/sample - loss: 0.7261 - accuracy: 0.7727 - val_loss: 0.1851 - val_accuracy: 0.9455\n",
      "=====\n",
      "Training with 30.0 % of the train set\n",
      "=====\n",
      "Train on 17850 samples, validate on 10500 samples\n",
      "17850/17850 [==============================] - 52s 3ms/sample - loss: 0.5673 - accuracy: 0.8229 - val_loss: 0.1331 - val_accuracy: 0.9585\n",
      "=====\n",
      "Training with 40.0 % of the train set\n",
      "=====\n",
      "Train on 23800 samples, validate on 10500 samples\n",
      "23800/23800 [==============================] - 64s 3ms/sample - loss: 0.4908 - accuracy: 0.8492 - val_loss: 0.1179 - val_accuracy: 0.9640\n",
      "=====\n",
      "Training with 50.0 % of the train set\n",
      "=====\n",
      "Train on 29750 samples, validate on 10500 samples\n",
      "29750/29750 [==============================] - 102s 3ms/sample - loss: 0.4415 - accuracy: 0.8654 - val_loss: 0.1037 - val_accuracy: 0.9686\n",
      "=====\n",
      "Training with 60.0 % of the train set\n",
      "=====\n",
      "Train on 35700 samples, validate on 10500 samples\n",
      "35700/35700 [==============================] - 99s 3ms/sample - loss: 0.3828 - accuracy: 0.8829 - val_loss: 0.0863 - val_accuracy: 0.9742\n",
      "=====\n",
      "Training with 70.0 % of the train set\n",
      "=====\n",
      "Train on 41650 samples, validate on 10500 samples\n",
      "41650/41650 [==============================] - 92s 2ms/sample - loss: 0.3345 - accuracy: 0.8992 - val_loss: 0.0815 - val_accuracy: 0.9758\n",
      "=====\n",
      "Training with 80.0 % of the train set\n",
      "=====\n",
      "Train on 47600 samples, validate on 10500 samples\n",
      "47600/47600 [==============================] - 101s 2ms/sample - loss: 0.3038 - accuracy: 0.9059 - val_loss: 0.0785 - val_accuracy: 0.9761\n",
      "=====\n",
      "Training with 90.0 % of the train set\n",
      "=====\n",
      "Train on 53550 samples, validate on 10500 samples\n",
      "53550/53550 [==============================] - 114s 2ms/sample - loss: 0.2965 - accuracy: 0.9086 - val_loss: 0.0685 - val_accuracy: 0.9786\n",
      "=====\n",
      "Training with 100.0 % of the train set\n",
      "=====\n",
      "Train on 59500 samples, validate on 10500 samples\n",
      "59500/59500 [==============================] - 145s 2ms/sample - loss: 0.2702 - accuracy: 0.9162 - val_loss: 0.0660 - val_accuracy: 0.9791\n"
     ]
    }
   ],
   "source": [
    "result = {'test_score':[],'train_score':[]}\n",
    "for percentage in [0.1, 0.2, 0.3, 0.4, 0.5, 0.6, 0.7, 0.8, 0.9, 1.0]:\n",
    "    print('=====\\nTraining with',percentage*100,'% of the train set\\n=====')\n",
    "    cnn = init_cnn(4, 10, [32,64,128,128], 0.1,\\\n",
    "        input_shape=(28,28,1), kernel_size=(3,3), pool_size=(2,2),\\\n",
    "         dropout=True,dropout_rate=[0.25,0.25,0.4,0.3])\n",
    "    \n",
    "    cnn_history = cnn.fit(\\\n",
    "        X_cnn_train[0:int(percentage*len(X_cnn_train)),:],\\\n",
    "        y_cnn_train[0:int(percentage*len(X_cnn_train)),:], \\\n",
    "        batch_size=64, epochs=1,\\\n",
    "        validation_data=(X_cnn_test, y_cnn_test))\n",
    "    \n",
    "    result['train_score'].append(cnn_history.history['accuracy'])\n",
    "    result['test_score'].append(cnn_history.history['val_accuracy'])"
   ]
  },
  {
   "cell_type": "code",
   "execution_count": 16,
   "metadata": {},
   "outputs": [
    {
     "data": {
      "image/png": "[encoded data removed]",
      "text/plain": [
       "<Figure size 864x576 with 1 Axes>"
      ]
     },
     "metadata": {
      "needs_background": "light"
     },
     "output_type": "display_data"
    }
   ],
   "source": [
    "train_acc = np.array([ r[0] for r in result['train_score'] ])\n",
    "test_acc = np.array([ r[0] for r in result['test_score'] ])\n",
    "epochs = np.arange(0.1,1.1,0.1)\n",
    "\n",
    "import matplotlib.pyplot as plt\n",
    "plt.figure(figsize=(12,8));\n",
    "plt.plot(epochs, train_acc, 'bo', label='Acurácia em Treino')\n",
    "plt.plot(epochs, test_acc, 'b', label='Acurácia em Teste')\n",
    "plt.xlabel('Proporção do Conjunto de Treinamento',fontsize='x-large')\n",
    "plt.ylabel('Acurácia',fontsize='x-large')\n",
    "plt.legend()\n",
    "plt.show()"
   ]
  },
  {
   "cell_type": "markdown",
   "metadata": {},
   "source": [
    "## Exercício (parte 2)\n",
    "\n",
    "3. Analise os resultados obtidos. Existiu baixa generalização dos dado padrão aprendido? Se sim, em qual(is) proporção(ões)? Na sua opinião, porque isso ocorreu?\n",
    "\n",
    "**RESPOSTA:**\n",
    "\n",
    "Sim, existiu uma baixa generalização sobre o padrão apredendido.\n",
    "\n",
    "Analisando a evolução da acurácia durante o processo, é possível notar que com 30% ou mais da quantidade de dados definidos para treino (i.e., com um conjunto de exemplos igual ou maior à 17850) alcança-se uma acurácia próxima ou maior a 95% durante as fases de teste sobre o conjunto.\n",
    "Contudo, a acurácia associada a fase de treino é, consideravelmente, menor e não suficiente para a generalização do conjunto de dados.\n",
    "\n",
    "Proporcionalmente, temos que a generalização passa a ser satisfatória a partir dos 60%, onde temos a proporção de acurácia 86%/97% (que atinge aos 100% a acurácia 91%/97%).\n",
    "\n",
    "Isso ocorreu, possívelmente, pelo fato do conjunto de treino buscar aprimorar a generalização (quanto a representação das classes disponíveis) de maneira iterativa (enquanto atualiza os pesos da rede), aumentando o erro total, mas reduzindo o erro de predição final."
   ]
  }
 ],
 "metadata": {
  "kernelspec": {
   "display_name": "Python 3",
   "language": "python",
   "name": "python3"
  },
  "language_info": {
   "codemirror_mode": {
    "name": "ipython",
    "version": 3
   },
   "file_extension": ".py",
   "mimetype": "text/x-python",
   "name": "python",
   "nbconvert_exporter": "python",
   "pygments_lexer": "ipython3",
   "version": "3.6.9"
  }
 },
 "nbformat": 4,
 "nbformat_minor": 2
}
